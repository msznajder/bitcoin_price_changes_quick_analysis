{
 "cells": [
  {
   "cell_type": "markdown",
   "metadata": {},
   "source": [
    "# #003 How many red cars are there in Poland and is it similar proportion like other colors (I say it is lower)?\n",
    "\n",
    "I am buying my first - used - car. Going through listings I realised that not so many of them are red. Then I started to recognize the same on the street. Both observations cannot be treated as objective and general so I want to verify it with some bigger population data. "
   ]
  },
  {
   "cell_type": "markdown",
   "metadata": {},
   "source": [
    "## Data wrangling\n",
    "\n",
    "Yes, exactly. The data. You need to have a data to wrangle in the first place.\n",
    "\n",
    "Where to take large scale data about car colors in Poland? My first thought was GUS (Główny Urząd Statystyczny - Central Statistical Office in Poland). They should have it - I guessed. And I was wrong. I could find all information but the information I was interested which was cars colors data."
   ]
  },
  {
   "cell_type": "code",
   "execution_count": null,
   "metadata": {
    "collapsed": true
   },
   "outputs": [],
   "source": []
  },
  {
   "cell_type": "code",
   "execution_count": null,
   "metadata": {
    "collapsed": true
   },
   "outputs": [],
   "source": []
  },
  {
   "cell_type": "code",
   "execution_count": null,
   "metadata": {
    "collapsed": true
   },
   "outputs": [],
   "source": []
  }
 ],
 "metadata": {
  "kernelspec": {
   "display_name": "Python 3",
   "language": "python",
   "name": "python3"
  },
  "language_info": {
   "codemirror_mode": {
    "name": "ipython",
    "version": 3
   },
   "file_extension": ".py",
   "mimetype": "text/x-python",
   "name": "python",
   "nbconvert_exporter": "python",
   "pygments_lexer": "ipython3",
   "version": "3.6.0"
  }
 },
 "nbformat": 4,
 "nbformat_minor": 2
}
