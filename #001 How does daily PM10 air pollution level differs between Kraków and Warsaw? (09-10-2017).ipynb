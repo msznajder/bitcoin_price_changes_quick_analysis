{
 "cells": [
  {
   "cell_type": "markdown",
   "metadata": {},
   "source": [
    "# #001 How does daily PM10 air pollution level differs between Kraków and Warsaw?\n",
    "\n",
    "The first question I want to answer is close to my heart: air polution in places we live. \n",
    "\n",
    "Recently I was wondering how does it differ between Polish two biggest cities: Warsaw and Kraków. Kraków for sure has the opinion of the most polluted Polish city (most likely for a reason - but let's wait for the data). However recently also Warsaw entered this \"high pollution\" state. \n",
    "\n",
    "Let's see how do they compare for the past year. First let's get the data."
   ]
  },
  {
   "cell_type": "markdown",
   "metadata": {},
   "source": [
    "## Data wrangling\n",
    "\n",
    "### Kraków\n",
    "Kraków is rather easy. We can get official air pollution measurements for the past year on Wojewódzki Inspektorat Środowiska w Krakowie [website](http://monitoring.krakow.pios.gov.pl/). There are several measurement stations in Kraków. This is simple (but not simplistic!) analysis so I decided to choose the one the most in the city center instead of for example averaging all of them. So we choose measurement station located in Aleja Krasińskiego ([here](http://monitoring.krakow.pios.gov.pl/stacje/stacja/6)). We will use data from October 2016 to September 2017 (12 full months). \n",
    "\n",
    "We need to manually download the csv file for each month from the website. Now our task is to wrangle a little with it and join all 12 csv files into one data set and check if it was correctly loaded. "
   ]
  },
  {
   "cell_type": "markdown",
   "metadata": {},
   "source": [
    "We start with loading needed modules and setting the plots to appear inline (in Jupyter notebook itself insetad of opening separate window)."
   ]
  },
  {
   "cell_type": "code",
   "execution_count": 17,
   "metadata": {
    "collapsed": true
   },
   "outputs": [],
   "source": [
    "import pandas as pd\n",
    "import matplotlib.pyplot as plt\n",
    "\n",
    "%matplotlib inline"
   ]
  },
  {
   "cell_type": "markdown",
   "metadata": {},
   "source": [
    "Let's now see how the raw csv file structure looks like."
   ]
  },
  {
   "cell_type": "code",
   "execution_count": 16,
   "metadata": {
    "collapsed": false
   },
   "outputs": [
    {
     "name": "stdout",
     "output_type": "stream",
     "text": [
      "\"CZAS\";\"NO2 Dwutlenek azotu  [µg/m3]\";\"NOx Tlenki azotu  [µg/m3]\";\"NO Tlenek azotu  [µg/m3]\";\"CO Tlenek węgla  [µg/m3]\";\"CO Tlenek węgla 8h poz. dop.: 10000 [µg/m3]\";\"C6H6 Benzen  [µg/m3]\";\"PM10 Pył zawieszony PM10 poz. dop.: 50 [µg/m3]\";\"PM2.5 Pył zawieszony PM2.5  [µg/m3]\"\r\n",
      "\"01.12\";\"41\";\"132\";\"59\";\"648\";\"764\";\"1,4\";\"28\";\"21\"\r\n",
      "\"02.12\";\"42\";\"130\";\"58\";\"606\";\"804\";\"1,1\";\"26\";\"17\"\r\n",
      "\"03.12\";\"42\";\"123\";\"53\";\"641\";\"856\";\"1,4\";\"41\";\"27\"\r\n",
      "\"04.12\";\"54\";\"208\";\"100\";\"1246\";\"2230\";\"3,7\";\"93\";\"67\"\r\n",
      "\"05.12\";\"75\";\"368\";\"192\";\"2145\";\"2727\";\"8,6\";\"181\";\"129\"\r\n",
      "\"06.12\";\"55\";\"210\";\"101\";\"1003\";\"1677\";\"2,7\";\"74\";\"55\"\r\n",
      "\"07.12\";\"72\";\"313\";\"158\";\"1278\";\"1768\";\"3,5\";\"99\";\"66\"\r\n",
      "\"08.12\";\"60\";\"196\";\"89\";\"957\";\"1683\";\"2,4\";\"69\";\"46\"\r\n",
      "\"09.12\";\"51\";\"161\";\"72\";\"813\";\"957\";\"1,6\";\"54\";\"30\"\r\n",
      "\"10.12\";\"39\";\"115\";\"50\";\"753\";\"811\";\"1,4\";\"38\";\"24\"\r\n",
      "\"11.12\";\"33\";\"92\";\"39\";\"670\";\"779\";\"1,0\";\"28\";\"19\"\r\n",
      "\"12.12\";\"50\";\"157\";\"70\";\"713\";\"866\";\"0,9\";\"29\";\"16\"\r\n",
      "\"13.12\";\"71\";\"310\";\"157\";\"1273\";\"1717\";\"3,1\";\"103\";\"63\"\r\n",
      "\"14.12\";\"57\";\"230\";\"113\";\"1199\";\"1629\";\"2,6\";\"85\";\"59\"\r\n",
      "\"15.12\";\"57\";\"230\";\"113\";\"946\";\"1132\";\"1,7\";\"37\";\"28\"\r\n",
      "\"16.12\";\"69\";\"335\";\"174\";\"1448\";\"2043\";\"3,8\";\"106\";\"74\"\r\n",
      "\"17.12\";\"68\";\"320\";\"165\";\"1982\";\"2219\";\"6,3\";\"158\";\"116\"\r\n",
      "\"18.12\";\"42\";\"175\";\"86\";\"1326\";\"1853\";\"3,3\";\"85\";\"65\"\r\n",
      "\"19.12\";\"54\";\"275\";\"144\";\"1755\";\"2083\";\"6,8\";\"99\";\"75\"\r\n",
      "\"20.12\";\"67\";\"336\";\"175\";\"1854\";\"2342\";\"5,5\";\"105\";\"77\"\r\n",
      "\"21.12\";\"64\";\"351\";\"188\";\"2186\";\"2464\";\"8,4\";\"142\";\"102\"\r\n",
      "\"22.12\";\"63\";\"307\";\"160\";\"1703\";\"2429\";\"5,1\";\"98\";\"73\"\r\n",
      "\"23.12\";\"49\";\"219\";\"111\";\"1347\";\"1640\";\"3,5\";\"77\";\"58\"\r\n",
      "\"24.12\";\"42\";\"134\";\"60\";\"1339\";\"1573\";\"3,5\";\"59\";\"51\"\r\n",
      "\"25.12\";\"26\";\"61\";\"23\";\"801\";\"1187\";\"1,4\";\"22\";\"20\"\r\n",
      "\"26.12\";\"20\";\"48\";\"18\";\"727\";\"883\";\"0,9\";\"15\";\"13\"\r\n",
      "\"27.12\";\"28\";\"68\";\"26\";\"687\";\"771\";\"0,5\";\"21\";\"13\"\r\n",
      "\"28.12\";\"39\";\"101\";\"41\";\"741\";\"860\";\"-\";\"25\";\"14\"\r\n",
      "\"29.12\";\"59\";\"205\";\"95\";\"1065\";\"1426\";\"2,3\";\"55\";\"35\"\r\n",
      "\"30.12\";\"69\";\"303\";\"153\";\"1863\";\"2213\";\"5,6\";\"148\";\"108\"\r\n",
      "\"31.12\";\"61\";\"239\";\"116\";\"2201\";\"2392\";\"7,7\";\"179\";\"133\"\r\n",
      "\"wartość średnia\";\"52\";\"208\";\"102\";\"1223\";\"-\";\"3,5\";\"77\";\"55\"\r\n",
      "\"minimum\";\"20\";\"48\";\"18\";\"606\";\"764\";\"0,5\";\"15\";\"13\"\r\n",
      "\"maksimum\";\"75\";\"368\";\"192\";\"2201\";\"2727\";\"8,6\";\"181\";\"133\""
     ]
    }
   ],
   "source": [
    "!cat \"data/1_waw_krk_air_pollution/dane-pomiarowe_2017-10-08_23-44-16.csv\""
   ]
  },
  {
   "cell_type": "markdown",
   "metadata": {},
   "source": [
    "So we see that we will need to use \";\" as a delimeter when loading the data. \n",
    "\n",
    "Also columns names are not to nicely formatted so it would be better if we will name them when loading the csv files. \n",
    "\n",
    "The last problem is that the last three rows contain agregated information (mean, min, max) and we want to keep only raw measurements. That is why we will drop last three rows from each data set."
   ]
  },
  {
   "cell_type": "markdown",
   "metadata": {},
   "source": [
    "Let's now iterate through all 12 csv files, read them and merge into one DataFrame. Then we'll check its integrity."
   ]
  },
  {
   "cell_type": "code",
   "execution_count": null,
   "metadata": {
    "collapsed": true
   },
   "outputs": [],
   "source": []
  },
  {
   "cell_type": "code",
   "execution_count": null,
   "metadata": {
    "collapsed": true
   },
   "outputs": [],
   "source": []
  },
  {
   "cell_type": "markdown",
   "metadata": {},
   "source": [
    "### Warsaw"
   ]
  },
  {
   "cell_type": "code",
   "execution_count": null,
   "metadata": {
    "collapsed": true
   },
   "outputs": [],
   "source": []
  },
  {
   "cell_type": "code",
   "execution_count": null,
   "metadata": {
    "collapsed": true
   },
   "outputs": [],
   "source": []
  },
  {
   "cell_type": "markdown",
   "metadata": {},
   "source": [
    "## Explore and conclusions\n",
    "\n",
    "We have the data so let's answer our question: How does daily PM10 air pollution level differs between Kraków and Warsaw?\n",
    "\n",
    "By the way: this is short and rapid analysis so we merge these two - usually separate data analysis - phases into one."
   ]
  },
  {
   "cell_type": "code",
   "execution_count": null,
   "metadata": {
    "collapsed": true
   },
   "outputs": [],
   "source": []
  },
  {
   "cell_type": "code",
   "execution_count": null,
   "metadata": {
    "collapsed": true
   },
   "outputs": [],
   "source": []
  },
  {
   "cell_type": "code",
   "execution_count": null,
   "metadata": {
    "collapsed": true
   },
   "outputs": [],
   "source": []
  }
 ],
 "metadata": {
  "kernelspec": {
   "display_name": "Python 3",
   "language": "python",
   "name": "python3"
  },
  "language_info": {
   "codemirror_mode": {
    "name": "ipython",
    "version": 3
   },
   "file_extension": ".py",
   "mimetype": "text/x-python",
   "name": "python",
   "nbconvert_exporter": "python",
   "pygments_lexer": "ipython3",
   "version": "3.6.0"
  }
 },
 "nbformat": 4,
 "nbformat_minor": 2
}
