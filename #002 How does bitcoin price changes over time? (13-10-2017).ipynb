{
 "cells": [
  {
   "cell_type": "markdown",
   "metadata": {},
   "source": [
    "# #002 How does bitcoin price changes over time?\n",
    "\n",
    "Recently I was wondering how bitcon price varies over time. The best way to answer this question will be to look at the data!"
   ]
  },
  {
   "cell_type": "markdown",
   "metadata": {},
   "source": [
    "## Data wrangling\n",
    "\n",
    "First we need to set some fundamental assumption. As we are analysing currency price we need to do it against some other currency. That is how this market works. I choose the most obvious option - price of bitcoin against United States dollar (USD). I treat it as basic assumption for further analysis.\n",
    "\n",
    "So let's get the data. Quandl is an platform offering essential financial and economic data sets. And instead of just downloading the csv file Quandl offers Bitcoin exchange rates via free API which we will use. Thanks to that the data will be updated with future prices data when running this Jupyter notebook.\n",
    "\n",
    "Let's start by installing Quandl module first. Since I am using Anaconda Python distribution, I do it by simply running ```conda install quandl``` in my terminal. Next step will be creating simple tooling function responsible for connecting to Quandl API and getting the data we are interested in."
   ]
  },
  {
   "cell_type": "code",
   "execution_count": 53,
   "metadata": {
    "collapsed": true
   },
   "outputs": [],
   "source": [
    "import pandas as pd\n",
    "import quandl"
   ]
  },
  {
   "cell_type": "markdown",
   "metadata": {},
   "source": [
    "Let's write helper function to get and save data from Quandl to a file."
   ]
  },
  {
   "cell_type": "code",
   "execution_count": 54,
   "metadata": {
    "collapsed": true
   },
   "outputs": [],
   "source": [
    "def get_quandl_data(data_code, path):\n",
    "    \"\"\"\n",
    "    Downloading Quandl data for given data code and saving it to a file.\n",
    "    \"\"\"\n",
    "    try:\n",
    "        data = quandl.get(data_code)\n",
    "    except Exception as e:\n",
    "        print(\"Error!\", e)\n",
    "        data = None\n",
    "    if isinstance(data, pd.DataFrame):\n",
    "        data.to_csv(path)"
   ]
  },
  {
   "cell_type": "markdown",
   "metadata": {},
   "source": [
    "And get the actual data."
   ]
  },
  {
   "cell_type": "code",
   "execution_count": 57,
   "metadata": {
    "collapsed": false
   },
   "outputs": [],
   "source": [
    "data_path = \"data/2_bitcoin_prices/prices.csv\"\n",
    "\n",
    "get_quandl_data(\"BCHARTS/KRAKENUSD\", data_path)"
   ]
  },
  {
   "cell_type": "markdown",
   "metadata": {},
   "source": [
    "Now we can read it from csv file."
   ]
  },
  {
   "cell_type": "code",
   "execution_count": 59,
   "metadata": {
    "collapsed": false
   },
   "outputs": [],
   "source": [
    "bitcoin_df = pd.read_csv(data_path)"
   ]
  },
  {
   "cell_type": "markdown",
   "metadata": {
    "collapsed": true
   },
   "source": [
    "## Data exploration"
   ]
  },
  {
   "cell_type": "markdown",
   "metadata": {},
   "source": [
    "Let's see basic features of created data set."
   ]
  },
  {
   "cell_type": "code",
   "execution_count": 62,
   "metadata": {
    "collapsed": false
   },
   "outputs": [
    {
     "data": {
      "text/html": [
       "<div>\n",
       "<table border=\"1\" class=\"dataframe\">\n",
       "  <thead>\n",
       "    <tr style=\"text-align: right;\">\n",
       "      <th></th>\n",
       "      <th>Date</th>\n",
       "      <th>Open</th>\n",
       "      <th>High</th>\n",
       "      <th>Low</th>\n",
       "      <th>Close</th>\n",
       "      <th>Volume (BTC)</th>\n",
       "      <th>Volume (Currency)</th>\n",
       "      <th>Weighted Price</th>\n",
       "    </tr>\n",
       "  </thead>\n",
       "  <tbody>\n",
       "    <tr>\n",
       "      <th>0</th>\n",
       "      <td>2014-01-07</td>\n",
       "      <td>874.67040</td>\n",
       "      <td>892.06753</td>\n",
       "      <td>810.00000</td>\n",
       "      <td>810.00000</td>\n",
       "      <td>15.622378</td>\n",
       "      <td>13151.472844</td>\n",
       "      <td>841.835522</td>\n",
       "    </tr>\n",
       "    <tr>\n",
       "      <th>1</th>\n",
       "      <td>2014-01-08</td>\n",
       "      <td>810.00000</td>\n",
       "      <td>899.84281</td>\n",
       "      <td>788.00000</td>\n",
       "      <td>824.98287</td>\n",
       "      <td>19.182756</td>\n",
       "      <td>16097.329584</td>\n",
       "      <td>839.156269</td>\n",
       "    </tr>\n",
       "    <tr>\n",
       "      <th>2</th>\n",
       "      <td>2014-01-09</td>\n",
       "      <td>825.56345</td>\n",
       "      <td>870.00000</td>\n",
       "      <td>807.42084</td>\n",
       "      <td>841.86934</td>\n",
       "      <td>8.158335</td>\n",
       "      <td>6784.249982</td>\n",
       "      <td>831.572913</td>\n",
       "    </tr>\n",
       "    <tr>\n",
       "      <th>3</th>\n",
       "      <td>2014-01-10</td>\n",
       "      <td>839.99000</td>\n",
       "      <td>857.34056</td>\n",
       "      <td>817.00000</td>\n",
       "      <td>857.33056</td>\n",
       "      <td>8.024510</td>\n",
       "      <td>6780.220188</td>\n",
       "      <td>844.938794</td>\n",
       "    </tr>\n",
       "    <tr>\n",
       "      <th>4</th>\n",
       "      <td>2014-01-11</td>\n",
       "      <td>858.20000</td>\n",
       "      <td>918.05471</td>\n",
       "      <td>857.16554</td>\n",
       "      <td>899.84105</td>\n",
       "      <td>18.748285</td>\n",
       "      <td>16698.566929</td>\n",
       "      <td>890.671709</td>\n",
       "    </tr>\n",
       "  </tbody>\n",
       "</table>\n",
       "</div>"
      ],
      "text/plain": [
       "         Date       Open       High        Low      Close  Volume (BTC)  \\\n",
       "0  2014-01-07  874.67040  892.06753  810.00000  810.00000     15.622378   \n",
       "1  2014-01-08  810.00000  899.84281  788.00000  824.98287     19.182756   \n",
       "2  2014-01-09  825.56345  870.00000  807.42084  841.86934      8.158335   \n",
       "3  2014-01-10  839.99000  857.34056  817.00000  857.33056      8.024510   \n",
       "4  2014-01-11  858.20000  918.05471  857.16554  899.84105     18.748285   \n",
       "\n",
       "   Volume (Currency)  Weighted Price  \n",
       "0       13151.472844      841.835522  \n",
       "1       16097.329584      839.156269  \n",
       "2        6784.249982      831.572913  \n",
       "3        6780.220188      844.938794  \n",
       "4       16698.566929      890.671709  "
      ]
     },
     "execution_count": 62,
     "metadata": {},
     "output_type": "execute_result"
    }
   ],
   "source": [
    "bitcoin_df.head()"
   ]
  },
  {
   "cell_type": "code",
   "execution_count": 63,
   "metadata": {
    "collapsed": false
   },
   "outputs": [
    {
     "data": {
      "text/html": [
       "<div>\n",
       "<table border=\"1\" class=\"dataframe\">\n",
       "  <thead>\n",
       "    <tr style=\"text-align: right;\">\n",
       "      <th></th>\n",
       "      <th>Date</th>\n",
       "      <th>Open</th>\n",
       "      <th>High</th>\n",
       "      <th>Low</th>\n",
       "      <th>Close</th>\n",
       "      <th>Volume (BTC)</th>\n",
       "      <th>Volume (Currency)</th>\n",
       "      <th>Weighted Price</th>\n",
       "    </tr>\n",
       "  </thead>\n",
       "  <tbody>\n",
       "    <tr>\n",
       "      <th>1373</th>\n",
       "      <td>2017-10-11</td>\n",
       "      <td>4745.4</td>\n",
       "      <td>4878.0</td>\n",
       "      <td>4710.2</td>\n",
       "      <td>4822.6</td>\n",
       "      <td>3619.274645</td>\n",
       "      <td>1.738064e+07</td>\n",
       "      <td>4802.244410</td>\n",
       "    </tr>\n",
       "    <tr>\n",
       "      <th>1374</th>\n",
       "      <td>2017-10-12</td>\n",
       "      <td>4824.2</td>\n",
       "      <td>5430.0</td>\n",
       "      <td>4812.2</td>\n",
       "      <td>5429.7</td>\n",
       "      <td>7950.666610</td>\n",
       "      <td>4.103676e+07</td>\n",
       "      <td>5161.424147</td>\n",
       "    </tr>\n",
       "    <tr>\n",
       "      <th>1375</th>\n",
       "      <td>2017-10-13</td>\n",
       "      <td>5429.8</td>\n",
       "      <td>5854.4</td>\n",
       "      <td>5380.1</td>\n",
       "      <td>5640.0</td>\n",
       "      <td>9222.144339</td>\n",
       "      <td>5.178706e+07</td>\n",
       "      <td>5615.511555</td>\n",
       "    </tr>\n",
       "    <tr>\n",
       "      <th>1376</th>\n",
       "      <td>2017-10-14</td>\n",
       "      <td>5626.7</td>\n",
       "      <td>5800.0</td>\n",
       "      <td>5556.1</td>\n",
       "      <td>5800.0</td>\n",
       "      <td>3019.946476</td>\n",
       "      <td>1.719205e+07</td>\n",
       "      <td>5692.831135</td>\n",
       "    </tr>\n",
       "    <tr>\n",
       "      <th>1377</th>\n",
       "      <td>2017-10-15</td>\n",
       "      <td>5800.0</td>\n",
       "      <td>5840.4</td>\n",
       "      <td>5462.1</td>\n",
       "      <td>5690.1</td>\n",
       "      <td>4298.089515</td>\n",
       "      <td>2.409953e+07</td>\n",
       "      <td>5607.033176</td>\n",
       "    </tr>\n",
       "  </tbody>\n",
       "</table>\n",
       "</div>"
      ],
      "text/plain": [
       "            Date    Open    High     Low   Close  Volume (BTC)  \\\n",
       "1373  2017-10-11  4745.4  4878.0  4710.2  4822.6   3619.274645   \n",
       "1374  2017-10-12  4824.2  5430.0  4812.2  5429.7   7950.666610   \n",
       "1375  2017-10-13  5429.8  5854.4  5380.1  5640.0   9222.144339   \n",
       "1376  2017-10-14  5626.7  5800.0  5556.1  5800.0   3019.946476   \n",
       "1377  2017-10-15  5800.0  5840.4  5462.1  5690.1   4298.089515   \n",
       "\n",
       "      Volume (Currency)  Weighted Price  \n",
       "1373       1.738064e+07     4802.244410  \n",
       "1374       4.103676e+07     5161.424147  \n",
       "1375       5.178706e+07     5615.511555  \n",
       "1376       1.719205e+07     5692.831135  \n",
       "1377       2.409953e+07     5607.033176  "
      ]
     },
     "execution_count": 63,
     "metadata": {},
     "output_type": "execute_result"
    }
   ],
   "source": [
    "bitcoin_df.tail()"
   ]
  },
  {
   "cell_type": "code",
   "execution_count": 64,
   "metadata": {
    "collapsed": false
   },
   "outputs": [
    {
     "data": {
      "text/plain": [
       "Date                  object\n",
       "Open                 float64\n",
       "High                 float64\n",
       "Low                  float64\n",
       "Close                float64\n",
       "Volume (BTC)         float64\n",
       "Volume (Currency)    float64\n",
       "Weighted Price       float64\n",
       "dtype: object"
      ]
     },
     "execution_count": 64,
     "metadata": {},
     "output_type": "execute_result"
    }
   ],
   "source": [
    "bitcoin_df.dtypes"
   ]
  },
  {
   "cell_type": "code",
   "execution_count": 68,
   "metadata": {
    "collapsed": false
   },
   "outputs": [
    {
     "data": {
      "text/html": [
       "<div>\n",
       "<table border=\"1\" class=\"dataframe\">\n",
       "  <thead>\n",
       "    <tr style=\"text-align: right;\">\n",
       "      <th></th>\n",
       "      <th>Open</th>\n",
       "      <th>High</th>\n",
       "      <th>Low</th>\n",
       "      <th>Close</th>\n",
       "      <th>Volume (BTC)</th>\n",
       "      <th>Volume (Currency)</th>\n",
       "      <th>Weighted Price</th>\n",
       "    </tr>\n",
       "  </thead>\n",
       "  <tbody>\n",
       "    <tr>\n",
       "      <th>count</th>\n",
       "      <td>1378.000000</td>\n",
       "      <td>1378.000000</td>\n",
       "      <td>1378.000000</td>\n",
       "      <td>1378.000000</td>\n",
       "      <td>1378.000000</td>\n",
       "      <td>1.378000e+03</td>\n",
       "      <td>1378.000000</td>\n",
       "    </tr>\n",
       "    <tr>\n",
       "      <th>mean</th>\n",
       "      <td>820.184319</td>\n",
       "      <td>845.854381</td>\n",
       "      <td>795.559261</td>\n",
       "      <td>823.701844</td>\n",
       "      <td>1423.628083</td>\n",
       "      <td>3.006124e+06</td>\n",
       "      <td>821.079221</td>\n",
       "    </tr>\n",
       "    <tr>\n",
       "      <th>std</th>\n",
       "      <td>966.618879</td>\n",
       "      <td>1004.081761</td>\n",
       "      <td>933.315635</td>\n",
       "      <td>975.423012</td>\n",
       "      <td>2591.654931</td>\n",
       "      <td>7.689900e+06</td>\n",
       "      <td>968.785739</td>\n",
       "    </tr>\n",
       "    <tr>\n",
       "      <th>min</th>\n",
       "      <td>0.000000</td>\n",
       "      <td>0.000000</td>\n",
       "      <td>0.000000</td>\n",
       "      <td>0.000000</td>\n",
       "      <td>0.000000</td>\n",
       "      <td>0.000000e+00</td>\n",
       "      <td>0.000000</td>\n",
       "    </tr>\n",
       "    <tr>\n",
       "      <th>25%</th>\n",
       "      <td>296.955610</td>\n",
       "      <td>311.939293</td>\n",
       "      <td>289.091775</td>\n",
       "      <td>299.988803</td>\n",
       "      <td>11.971741</td>\n",
       "      <td>4.716352e+03</td>\n",
       "      <td>298.552371</td>\n",
       "    </tr>\n",
       "    <tr>\n",
       "      <th>50%</th>\n",
       "      <td>500.550005</td>\n",
       "      <td>524.864860</td>\n",
       "      <td>485.447500</td>\n",
       "      <td>504.169215</td>\n",
       "      <td>105.639015</td>\n",
       "      <td>3.122067e+04</td>\n",
       "      <td>498.990956</td>\n",
       "    </tr>\n",
       "    <tr>\n",
       "      <th>75%</th>\n",
       "      <td>768.290250</td>\n",
       "      <td>775.855250</td>\n",
       "      <td>755.445500</td>\n",
       "      <td>767.079130</td>\n",
       "      <td>1563.924553</td>\n",
       "      <td>1.085268e+06</td>\n",
       "      <td>767.098167</td>\n",
       "    </tr>\n",
       "    <tr>\n",
       "      <th>max</th>\n",
       "      <td>5800.000000</td>\n",
       "      <td>5854.400000</td>\n",
       "      <td>5556.100000</td>\n",
       "      <td>5800.000000</td>\n",
       "      <td>21846.766955</td>\n",
       "      <td>7.435428e+07</td>\n",
       "      <td>5692.831135</td>\n",
       "    </tr>\n",
       "  </tbody>\n",
       "</table>\n",
       "</div>"
      ],
      "text/plain": [
       "              Open         High          Low        Close  Volume (BTC)  \\\n",
       "count  1378.000000  1378.000000  1378.000000  1378.000000   1378.000000   \n",
       "mean    820.184319   845.854381   795.559261   823.701844   1423.628083   \n",
       "std     966.618879  1004.081761   933.315635   975.423012   2591.654931   \n",
       "min       0.000000     0.000000     0.000000     0.000000      0.000000   \n",
       "25%     296.955610   311.939293   289.091775   299.988803     11.971741   \n",
       "50%     500.550005   524.864860   485.447500   504.169215    105.639015   \n",
       "75%     768.290250   775.855250   755.445500   767.079130   1563.924553   \n",
       "max    5800.000000  5854.400000  5556.100000  5800.000000  21846.766955   \n",
       "\n",
       "       Volume (Currency)  Weighted Price  \n",
       "count       1.378000e+03     1378.000000  \n",
       "mean        3.006124e+06      821.079221  \n",
       "std         7.689900e+06      968.785739  \n",
       "min         0.000000e+00        0.000000  \n",
       "25%         4.716352e+03      298.552371  \n",
       "50%         3.122067e+04      498.990956  \n",
       "75%         1.085268e+06      767.098167  \n",
       "max         7.435428e+07     5692.831135  "
      ]
     },
     "execution_count": 68,
     "metadata": {},
     "output_type": "execute_result"
    }
   ],
   "source": [
    "bitcoin_df.describe()"
   ]
  },
  {
   "cell_type": "markdown",
   "metadata": {
    "collapsed": true
   },
   "source": [
    "We can see that we have 1378 bitcoin price data points collected from 2014-01-07 to 2017-10-15 (as of day of this analysis). We have also several price measure points. The one to answer this analysis question seems to be closing price (`Close` column) and we will use it in further analysis."
   ]
  },
  {
   "cell_type": "markdown",
   "metadata": {
    "collapsed": true
   },
   "source": [
    "## Conclusions and answer\n",
    "\n",
    "We want to answe following question: how does bitcoin price changes over time? To do, based on data exploration, we decided to use daily closing price of bitcoin unit versus dollar. \n",
    "\n",
    "Let's plot and see how data distribution shape looks like."
   ]
  },
  {
   "cell_type": "code",
   "execution_count": 77,
   "metadata": {
    "collapsed": false
   },
   "outputs": [],
   "source": [
    "import matplotlib.pyplot as plt\n",
    "from matplotlib.dates import MonthLocator, DateFormatter\n",
    "%matplotlib inline"
   ]
  },
  {
   "cell_type": "code",
   "execution_count": 97,
   "metadata": {
    "collapsed": false
   },
   "outputs": [
    {
     "data": {
      "text/plain": [
       "<matplotlib.legend.Legend at 0x1111cdc50>"
      ]
     },
     "execution_count": 97,
     "metadata": {},
     "output_type": "execute_result"
    },
    {
     "data": {
      "image/png": "[encoded data removed]",
      "text/plain": [
       "<matplotlib.figure.Figure at 0x118c61908>"
      ]
     },
     "metadata": {},
     "output_type": "display_data"
    }
   ],
   "source": [
    "fig, axes = plt.subplots(figsize=(18, 8))\n",
    "# axes.plot(bitcoin_df[\"Close\"])\n",
    "months = MonthLocator(range(1, 13), bymonthday=1, interval=3)\n",
    "monthsFmt = DateFormatter(\"%Y-%m\")\n",
    "axes.set_title(\"Bitcoin vs. USD closing price\")\n",
    "axes.plot_date(bitcoin_df['Date'], bitcoin_df[\"Close\"], fmt='m', color=\"dimgrey\", label=\"Bitcoin vs. USD closing price\")\n",
    "axes.xaxis.set_major_locator(months)\n",
    "axes.xaxis.set_major_formatter(monthsFmt)\n",
    "axes.set_xlabel(\"Date\")\n",
    "axes.set_ylabel(\"USD\")\n",
    "axes.grid(True, which='major')\n",
    "axes.legend(loc=0)"
   ]
  },
  {
   "cell_type": "markdown",
   "metadata": {},
   "source": [
    "We see that the overall trend in bitcoin price is growing with its values exploding rapidly in recent 6 months."
   ]
  },
  {
   "cell_type": "markdown",
   "metadata": {},
   "source": [
    "Let's have a closer look at specific data characteristics."
   ]
  },
  {
   "cell_type": "code",
   "execution_count": 67,
   "metadata": {
    "collapsed": false
   },
   "outputs": [
    {
     "data": {
      "text/plain": [
       "count    1378.000000\n",
       "mean      823.701844\n",
       "std       975.423012\n",
       "min         0.000000\n",
       "25%       299.988803\n",
       "50%       504.169215\n",
       "75%       767.079130\n",
       "max      5800.000000\n",
       "Name: Close, dtype: float64"
      ]
     },
     "execution_count": 67,
     "metadata": {},
     "output_type": "execute_result"
    }
   ],
   "source": [
    "bitcoin_df[\"Close\"].describe()"
   ]
  },
  {
   "cell_type": "markdown",
   "metadata": {},
   "source": [
    "So for overall analyzed period of time (2014-01-07 to 2017-10-15) the mean bitcoing vs. dollar price is \\$823.7 with very large variance of \\$975.4. Median price is \\$504.17. \n",
    "\n",
    "The minimal price was \\$0.0 (!) and maximal price was $5800. Let's see when did this happend and investigate possible reasons."
   ]
  },
  {
   "cell_type": "markdown",
   "metadata": {},
   "source": [
    "On the plot we can see that \\$0.00 price was reached several times. Why and when?\n",
    "\n",
    "\n",
    "\n",
    "\n"
   ]
  },
  {
   "cell_type": "markdown",
   "metadata": {},
   "source": [
    "What about the the maximal price?"
   ]
  },
  {
   "cell_type": "markdown",
   "metadata": {},
   "source": [
    "One cannot analyze just the maximal price without looking at the reason for this rapid price growth from March 2017 to October 2017, resulting in reaching current maximal price."
   ]
  },
  {
   "cell_type": "code",
   "execution_count": null,
   "metadata": {
    "collapsed": true
   },
   "outputs": [],
   "source": []
  }
 ],
 "metadata": {
  "kernelspec": {
   "display_name": "Python 3",
   "language": "python",
   "name": "python3"
  },
  "language_info": {
   "codemirror_mode": {
    "name": "ipython",
    "version": 3
   },
   "file_extension": ".py",
   "mimetype": "text/x-python",
   "name": "python",
   "nbconvert_exporter": "python",
   "pygments_lexer": "ipython3",
   "version": "3.6.0"
  }
 },
 "nbformat": 4,
 "nbformat_minor": 2
}
